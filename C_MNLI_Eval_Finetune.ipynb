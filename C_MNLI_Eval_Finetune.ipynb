{
 "cells": [
  {
   "cell_type": "code",
   "execution_count": 1,
   "metadata": {},
   "outputs": [],
   "source": [
    "import pickle as pk\n",
    "import torch\n",
    "import pandas as pd"
   ]
  },
  {
   "cell_type": "code",
   "execution_count": 2,
   "metadata": {},
   "outputs": [],
   "source": [
    "# load datasets and embeddings\n",
    "mnli_train_dict = pk.load(open(\"./hw2_data/mnli_train_dict.pk\", \"rb\"))\n",
    "mnli_val_dict = pk.load(open(\"./hw2_data/mnli_val_dict.pk\", \"rb\"))\n",
    "\n",
    "snli_train_id = pk.load(open(\"./hw2_data/snli_train_id.pk\", \"rb\"))\n",
    "snli_val_id = pk.load(open(\"./hw2_data/snli_val_id.pk\", \"rb\"))\n",
    "\n",
    "loaded_embeddings_ft = pk.load(open(\"./hw2_data/loaded_embeddings_ft.pk\", \"rb\"))\n",
    "Genres = list(mnli_train_dict.keys())"
   ]
  },
  {
   "cell_type": "code",
   "execution_count": 41,
   "metadata": {
    "scrolled": true
   },
   "outputs": [],
   "source": [
    "from rnn_trainer import rnn_trainer\n",
    "\n",
    "model_path = 'best_models/RNN.pth'\n",
    "with open(model_path, 'rb') as model_dict:\n",
    "        checkpoint = torch.load(model_dict)\n",
    "best_args = checkpoint['config_dict']"
   ]
  },
  {
   "cell_type": "code",
   "execution_count": 44,
   "metadata": {},
   "outputs": [],
   "source": [
    "mnli_rnn_acc = {}\n",
    "for g in Genres:\n",
    "    trainer = rnn_trainer(mnli_train_dict[g], mnli_val_dict[g], loaded_embeddings_ft, best_args)\n",
    "    trainer.load_model('best_models', 'RNN')\n",
    "    mnli_rnn_acc[g] = trainer.eval_stage()\n",
    "\n",
    "trainer = rnn_trainer(snli_train_id, snli_val_id, loaded_embeddings_ft, best_args)\n",
    "trainer.load_model('best_models', 'RNN')\n",
    "mnli_rnn_acc['SNLI'] = trainer.eval_stage()\n"
   ]
  },
  {
   "cell_type": "code",
   "execution_count": 45,
   "metadata": {},
   "outputs": [],
   "source": [
    "mnli_rnn_acc_df = pd.DataFrame.from_dict(mnli_rnn_acc, orient='index').T"
   ]
  },
  {
   "cell_type": "code",
   "execution_count": 3,
   "metadata": {},
   "outputs": [],
   "source": [
    "from cnn_trainer import cnn_trainer\n",
    "model_path = 'best_models/CNN.pth'\n",
    "with open(model_path, 'rb') as model_dict:\n",
    "        checkpoint = torch.load(model_dict)\n",
    "best_args = checkpoint['config_dict']"
   ]
  },
  {
   "cell_type": "code",
   "execution_count": 4,
   "metadata": {},
   "outputs": [],
   "source": [
    "mnli_cnn_acc = {}\n",
    "for g in Genres:\n",
    "    trainer = cnn_trainer(mnli_train_dict[g], mnli_val_dict[g], loaded_embeddings_ft, best_args)\n",
    "    trainer.load_model('best_models', 'CNN')\n",
    "    mnli_cnn_acc[g] = trainer.eval_stage()\n",
    "    \n",
    "trainer = cnn_trainer(snli_train_id, snli_val_id, loaded_embeddings_ft, best_args)\n",
    "trainer.load_model('best_models', 'CNN')\n",
    "mnli_cnn_acc['SNLI'] = trainer.eval_stage()\n"
   ]
  },
  {
   "cell_type": "code",
   "execution_count": 5,
   "metadata": {},
   "outputs": [],
   "source": [
    "mnli_cnn_acc_df = pd.DataFrame.from_dict(mnli_cnn_acc, orient='index').T"
   ]
  },
  {
   "cell_type": "code",
   "execution_count": 53,
   "metadata": {},
   "outputs": [
    {
     "data": {
      "text/html": [
       "<div>\n",
       "<style scoped>\n",
       "    .dataframe tbody tr th:only-of-type {\n",
       "        vertical-align: middle;\n",
       "    }\n",
       "\n",
       "    .dataframe tbody tr th {\n",
       "        vertical-align: top;\n",
       "    }\n",
       "\n",
       "    .dataframe thead th {\n",
       "        text-align: right;\n",
       "    }\n",
       "</style>\n",
       "<table border=\"1\" class=\"dataframe\">\n",
       "  <thead>\n",
       "    <tr style=\"text-align: right;\">\n",
       "      <th></th>\n",
       "      <th>telephone</th>\n",
       "      <th>fiction</th>\n",
       "      <th>slate</th>\n",
       "      <th>government</th>\n",
       "      <th>travel</th>\n",
       "      <th>SNLI</th>\n",
       "    </tr>\n",
       "  </thead>\n",
       "  <tbody>\n",
       "    <tr>\n",
       "      <th>CNN</th>\n",
       "      <td>46.666667</td>\n",
       "      <td>47.035176</td>\n",
       "      <td>44.311377</td>\n",
       "      <td>45.669291</td>\n",
       "      <td>46.945010</td>\n",
       "      <td>70.6</td>\n",
       "    </tr>\n",
       "    <tr>\n",
       "      <th>RNN</th>\n",
       "      <td>44.975124</td>\n",
       "      <td>48.241206</td>\n",
       "      <td>44.810379</td>\n",
       "      <td>45.374016</td>\n",
       "      <td>47.759674</td>\n",
       "      <td>70.0</td>\n",
       "    </tr>\n",
       "  </tbody>\n",
       "</table>\n",
       "</div>"
      ],
      "text/plain": [
       "     telephone    fiction      slate  government     travel  SNLI\n",
       "CNN  46.666667  47.035176  44.311377   45.669291  46.945010  70.6\n",
       "RNN  44.975124  48.241206  44.810379   45.374016  47.759674  70.0"
      ]
     },
     "execution_count": 53,
     "metadata": {},
     "output_type": "execute_result"
    }
   ],
   "source": [
    "MNLI_accuracy = pd.concat([mnli_cnn_acc_df, mnli_rnn_acc_df])\n",
    "MNLI_accuracy.index = ['CNN', 'RNN']\n",
    "MNLI_accuracy"
   ]
  },
  {
   "cell_type": "markdown",
   "metadata": {},
   "source": [
    "## Finetuning"
   ]
  },
  {
   "cell_type": "code",
   "execution_count": 6,
   "metadata": {},
   "outputs": [
    {
     "name": "stderr",
     "output_type": "stream",
     "text": [
      "100%|██████████| 15/15 [00:16<00:00,  1.09s/it]\n",
      "100%|██████████| 15/15 [00:48<00:00,  3.26s/it]\n",
      "100%|██████████| 15/15 [00:13<00:00,  1.15it/s]\n",
      "100%|██████████| 15/15 [00:12<00:00,  1.17it/s]\n",
      "100%|██████████| 15/15 [00:12<00:00,  1.19it/s]\n"
     ]
    }
   ],
   "source": [
    "# load best model  -- CNN\n",
    "from cnn_trainer import cnn_trainer\n",
    "model_path = 'best_models/CNN.pth'\n",
    "with open(model_path, 'rb') as model_dict:\n",
    "        checkpoint = torch.load(model_dict)\n",
    "best_args = checkpoint['config_dict']\n",
    "\n",
    "#train 15 epochs\n",
    "best_args['num_epochs'] = 15\n",
    "\n",
    "#Finetune on each genre\n",
    "genre_acc = []\n",
    "for g in Genres:\n",
    "    d = {}\n",
    "    d['genre'] = g\n",
    "    trainer = cnn_trainer(mnli_train_dict[g], mnli_val_dict[g], loaded_embeddings_ft, best_args)\n",
    "    trainer.load_model('best_models', 'CNN')\n",
    "    train_err, val_acc = trainer.go()\n",
    "    d['val_acc'] = val_acc[-1]\n",
    "    genre_acc.append(d)\n"
   ]
  },
  {
   "cell_type": "code",
   "execution_count": 16,
   "metadata": {},
   "outputs": [],
   "source": [
    "finetune_acc = pd.DataFrame.from_dict(genre_acc)"
   ]
  },
  {
   "cell_type": "code",
   "execution_count": 19,
   "metadata": {},
   "outputs": [],
   "source": [
    "finetune_acc = finetune_acc.set_index('genre').T"
   ]
  },
  {
   "cell_type": "code",
   "execution_count": 26,
   "metadata": {},
   "outputs": [
    {
     "data": {
      "text/html": [
       "<div>\n",
       "<style scoped>\n",
       "    .dataframe tbody tr th:only-of-type {\n",
       "        vertical-align: middle;\n",
       "    }\n",
       "\n",
       "    .dataframe tbody tr th {\n",
       "        vertical-align: top;\n",
       "    }\n",
       "\n",
       "    .dataframe thead th {\n",
       "        text-align: right;\n",
       "    }\n",
       "</style>\n",
       "<table border=\"1\" class=\"dataframe\">\n",
       "  <thead>\n",
       "    <tr style=\"text-align: right;\">\n",
       "      <th>genre</th>\n",
       "      <th>telephone</th>\n",
       "      <th>fiction</th>\n",
       "      <th>slate</th>\n",
       "      <th>government</th>\n",
       "      <th>travel</th>\n",
       "    </tr>\n",
       "  </thead>\n",
       "  <tbody>\n",
       "    <tr>\n",
       "      <th>before finetune</th>\n",
       "      <td>46.666667</td>\n",
       "      <td>47.035176</td>\n",
       "      <td>44.311377</td>\n",
       "      <td>45.669291</td>\n",
       "      <td>46.94501</td>\n",
       "    </tr>\n",
       "    <tr>\n",
       "      <th>after finetune</th>\n",
       "      <td>54.527363</td>\n",
       "      <td>54.773869</td>\n",
       "      <td>47.105788</td>\n",
       "      <td>56.003937</td>\n",
       "      <td>53.05499</td>\n",
       "    </tr>\n",
       "  </tbody>\n",
       "</table>\n",
       "</div>"
      ],
      "text/plain": [
       "genre            telephone    fiction      slate  government    travel\n",
       "before finetune  46.666667  47.035176  44.311377   45.669291  46.94501\n",
       "after finetune   54.527363  54.773869  47.105788   56.003937  53.05499"
      ]
     },
     "execution_count": 26,
     "metadata": {},
     "output_type": "execute_result"
    }
   ],
   "source": [
    "comparison = pd.concat([mnli_cnn_acc_df[Genres], finetune_acc])\n",
    "comparison.index = ['before finetune', 'after finetune']\n",
    "comparison"
   ]
  }
 ],
 "metadata": {
  "kernelspec": {
   "display_name": "Python 3",
   "language": "python",
   "name": "python3"
  },
  "language_info": {
   "codemirror_mode": {
    "name": "ipython",
    "version": 3
   },
   "file_extension": ".py",
   "mimetype": "text/x-python",
   "name": "python",
   "nbconvert_exporter": "python",
   "pygments_lexer": "ipython3",
   "version": "3.6.3"
  }
 },
 "nbformat": 4,
 "nbformat_minor": 2
}
