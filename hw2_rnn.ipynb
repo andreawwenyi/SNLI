{
 "cells": [
  {
   "cell_type": "code",
   "execution_count": 1,
   "metadata": {},
   "outputs": [],
   "source": [
    "import torch\n",
    "import pickle as pk\n",
    "import numpy as np"
   ]
  },
  {
   "cell_type": "code",
   "execution_count": 2,
   "metadata": {},
   "outputs": [],
   "source": [
    "snli_train_id = pk.load(open(\"./hw2_data/snli_train_id.pk\", \"rb\"))\n",
    "snli_val_id = pk.load(open(\"./hw2_data/snli_val_id.pk\", \"rb\"))\n",
    "loaded_embeddings_ft = pk.load(open(\"./hw2_data/loaded_embeddings_ft.pk\", \"rb\"))"
   ]
  },
  {
   "cell_type": "code",
   "execution_count": 57,
   "metadata": {},
   "outputs": [],
   "source": [
    "import tqdm\n",
    "import torch\n",
    "import torch.nn.functional as F\n",
    "from models import RNN\n",
    "from SNLI_DataLoader import SNLIDataset, snli_collate_func\n",
    "\n",
    "class rnn_trainer():\n",
    "    \n",
    "    def __init__(self, train_data, val_data, pre_trained_emb, args):\n",
    "        \n",
    "        self.device = torch.device(args['device'])\n",
    "        \n",
    "        #data\n",
    "        self.train_data = train_data\n",
    "        self.val_data = val_data\n",
    "        self.batch_size = args['batch_size']\n",
    "        \n",
    "        #init model\n",
    "        model_args = {'hidden_size': args['hidden_size'], \n",
    "                     'num_layers': args['num_layers'],\n",
    "                     'num_classes': args['num_classes'],\n",
    "                     'dropout': args['dropout'],\n",
    "                     'device': self.device\n",
    "                     }\n",
    "        self.model = RNN(model_args, pre_trained_emb)\n",
    "        \n",
    "        #training-level parameter\n",
    "        self.lr = args['learning_rate']\n",
    "        if args['optim'] == 'adam':\n",
    "            self.optim = torch.optim.Adam(self.model.parameters(), lr=self.lr)\n",
    "        self.criterion = torch.nn.CrossEntropyLoss()\n",
    "        self.num_epochs = args['num_epochs']\n",
    "        \n",
    "    def _load_data(self):\n",
    "        train_dataset = SNLIDataset(self.train_data)\n",
    "        self.train_loader = torch.utils.data.DataLoader(dataset=train_dataset,\n",
    "                                                   batch_size=self.batch_size,\n",
    "                                                   collate_fn=snli_collate_func,\n",
    "                                                   shuffle=True)\n",
    "        val_dataset = SNLIDataset(self.val_data)\n",
    "        self.val_loader = torch.utils.data.DataLoader(dataset=val_dataset,\n",
    "                                                   batch_size=self.batch_size,\n",
    "                                                   collate_fn=snli_collate_func,\n",
    "                                                   shuffle=True)\n",
    "\n",
    "    def train_stage(self):\n",
    "        for data in self.train_loader:\n",
    "            prem, prem_len, hyp, hyp_len, labels = [data[i].to(self.device) for i in range(len(data))]\n",
    "            self.model.train()\n",
    "            self.optim.zero_grad()\n",
    "            # Forward pass\n",
    "            outputs = self.model(prem, prem_len, hyp, hyp_len)\n",
    "            loss = self.criterion(outputs, labels)\n",
    "\n",
    "            # Backward and optimize\n",
    "            loss.backward()\n",
    "            self.optim.step()\n",
    "        \n",
    "    def eval_stage(self):\n",
    "        correct = 0\n",
    "        total = 0\n",
    "        self.model.eval()\n",
    "        for data in self.val_loader:\n",
    "            prem, prem_len, hyp, hyp_len, labels = [data[i].to(self.device) for i in range(len(data))]\n",
    "            outputs = F.softmax(self.model(prem, prem_len, hyp, hyp_len), dim=1)\n",
    "            predicted = outputs.max(1, keepdim=True)[1]\n",
    "\n",
    "            total += labels.size(0)\n",
    "            correct += predicted.eq(labels.view_as(predicted)).sum().item()\n",
    "        return (100 * correct / total)\n",
    "\n",
    "    def go(self,):\n",
    "        self._load_data()\n",
    "        val_acc_list = []\n",
    "        for epoch in tqdm.trange(self.num_epochs):\n",
    "            self.train_stage()\n",
    "            val_acc = self.eval_stage()\n",
    "            val_acc_list.append(val_acc)\n",
    "        return val_acc_list"
   ]
  },
  {
   "cell_type": "code",
   "execution_count": 3,
   "metadata": {},
   "outputs": [],
   "source": [
    "from rnn_trainer import rnn_trainer"
   ]
  },
  {
   "cell_type": "code",
   "execution_count": 4,
   "metadata": {},
   "outputs": [],
   "source": [
    "hidden_size_list = [100,200,300]\n",
    "dropout_list = [0,0.5]"
   ]
  },
  {
   "cell_type": "code",
   "execution_count": 14,
   "metadata": {},
   "outputs": [
    {
     "name": "stderr",
     "output_type": "stream",
     "text": [
      "100%|██████████| 50/50 [23:20<00:00, 28.00s/it]\n",
      "  0%|          | 0/50 [00:00<?, ?it/s]"
     ]
    },
    {
     "name": "stdout",
     "output_type": "stream",
     "text": [
      "finish hidden_size = 200, dropout = 0, val_acc = 68.6\n"
     ]
    },
    {
     "name": "stderr",
     "output_type": "stream",
     "text": [
      "100%|██████████| 50/50 [23:35<00:00, 28.31s/it]\n",
      "  0%|          | 0/50 [00:00<?, ?it/s]"
     ]
    },
    {
     "name": "stdout",
     "output_type": "stream",
     "text": [
      "finish hidden_size = 200, dropout = 0.5, val_acc = 67.3\n"
     ]
    },
    {
     "name": "stderr",
     "output_type": "stream",
     "text": [
      "100%|██████████| 50/50 [23:08<00:00, 27.78s/it]\n",
      "  0%|          | 0/50 [00:00<?, ?it/s]"
     ]
    },
    {
     "name": "stdout",
     "output_type": "stream",
     "text": [
      "finish hidden_size = 300, dropout = 0, val_acc = 68.3\n"
     ]
    },
    {
     "name": "stderr",
     "output_type": "stream",
     "text": [
      "100%|██████████| 50/50 [23:12<00:00, 27.84s/it]"
     ]
    },
    {
     "name": "stdout",
     "output_type": "stream",
     "text": [
      "finish hidden_size = 300, dropout = 0.5, val_acc = 69.0\n"
     ]
    },
    {
     "name": "stderr",
     "output_type": "stream",
     "text": [
      "\n"
     ]
    }
   ],
   "source": [
    "args= {}\n",
    "args['num_layers'] = 1\n",
    "args['num_classes'] = 3\n",
    "args['device'] = 'cuda'\n",
    "args['batch_size'] = 64\n",
    "args['optim'] = 'adam'\n",
    "args['learning_rate'] = 3e-4\n",
    "args['num_epochs'] = 50\n",
    "\n",
    "for h in hidden_size_list[1:]:\n",
    "    for d in dropout_list:\n",
    "        args['hidden_size'] = h\n",
    "        args['dropout'] = d\n",
    "        trainer = rnn_trainer(snli_train_id, snli_val_id, loaded_embeddings_ft, args)\n",
    "        val_list = trainer.go()\n",
    "        pk.dump(val_list, open('./result/rnn_h=%s_d=%s'%(h,d), 'wb'))\n",
    "        print('finish hidden_size = %s, dropout = %s, val_acc = %s'%(h,d,val_list[-1]))"
   ]
  },
  {
   "cell_type": "code",
   "execution_count": 13,
   "metadata": {},
   "outputs": [
    {
     "data": {
      "image/png": "[encoded data removed]",
      "text/plain": [
       "<matplotlib.figure.Figure at 0x2ab76c614908>"
      ]
     },
     "metadata": {
      "needs_background": "light"
     },
     "output_type": "display_data"
    }
   ],
   "source": [
    "import matplotlib.pyplot as plt \n",
    "for h in hidden_size_list:\n",
    "    for d in dropout_list:\n",
    "        val_acc = pk.load(open('./result/rnn_h=%s_d=%s'%(h,d), 'rb'))\n",
    "        plt.plot(range(len(val_acc)),val_acc, label = 'hidden size = %s, dropout = %s'%(h,d))\n",
    "        plt.title('RNN')\n",
    "        plt.ylabel('validation accuracy')\n",
    "        plt.xlabel('epoch')\n",
    "    plt.legend()\n",
    "    break"
   ]
  },
  {
   "cell_type": "code",
   "execution_count": null,
   "metadata": {},
   "outputs": [],
   "source": []
  }
 ],
 "metadata": {
  "kernelspec": {
   "display_name": "Python 3",
   "language": "python",
   "name": "python3"
  },
  "language_info": {
   "codemirror_mode": {
    "name": "ipython",
    "version": 3
   },
   "file_extension": ".py",
   "mimetype": "text/x-python",
   "name": "python",
   "nbconvert_exporter": "python",
   "pygments_lexer": "ipython3",
   "version": "3.6.3"
  }
 },
 "nbformat": 4,
 "nbformat_minor": 2
}
